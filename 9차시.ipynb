{
  "nbformat": 4,
  "nbformat_minor": 0,
  "metadata": {
    "colab": {
      "provenance": [],
      "authorship_tag": "ABX9TyNuRSrZS1QViBJm72H4eJQP",
      "include_colab_link": true
    },
    "kernelspec": {
      "name": "python3",
      "display_name": "Python 3"
    },
    "language_info": {
      "name": "python"
    }
  },
  "cells": [
    {
      "cell_type": "markdown",
      "metadata": {
        "id": "view-in-github",
        "colab_type": "text"
      },
      "source": [
        "<a href=\"https://colab.research.google.com/github/jiseokKim05/Python-Class/blob/main/9%EC%B0%A8%EC%8B%9C.ipynb\" target=\"_parent\"><img src=\"https://colab.research.google.com/assets/colab-badge.svg\" alt=\"Open In Colab\"/></a>"
      ]
    },
    {
      "cell_type": "code",
      "execution_count": 1,
      "metadata": {
        "colab": {
          "base_uri": "https://localhost:8080/"
        },
        "id": "fAIciVjUMftS",
        "outputId": "1224e6bc-53a3-474f-a69b-2dc8eb3de4d4"
      },
      "outputs": [
        {
          "output_type": "stream",
          "name": "stdout",
          "text": [
            "        test   !       \n",
            ".text.~~ \n",
            "test!\n",
            "        test   !       \n",
            "~~.text.~~ \n",
            "~test!\n",
            "\n",
            "\n",
            "\n",
            "Water boils at 100 degress 000\n",
            "000000000Water boils at 100 degress \n",
            "Water boils at 100 degress \n",
            "\n",
            "\n",
            "\n",
            "water...pp\n",
            ",,,,,,123...water\n",
            "water\n"
          ]
        }
      ],
      "source": [
        "a = '        test   !       '\n",
        "b = '~~.text.~~ '\n",
        "c = '~test!'\n",
        "\n",
        "#print(a.rstrip(), end='.')\n",
        "print(a.lstrip('~'))\n",
        "print(b.lstrip('~'))\n",
        "print(c.lstrip('~'))\n",
        "\n",
        "print(a.rstrip('~'))\n",
        "print(b.rstrip('~'))\n",
        "print(c.rstrip('~'))\n",
        "\n",
        "print('\\n\\n')\n",
        "\n",
        "text = '000000000Water boils at 100 degress 000'\n",
        "print(text.lstrip('0'))\n",
        "print(text.rstrip('0'))\n",
        "print(text.strip('0'))\n",
        "\n",
        "print('\\n\\n')\n",
        "text = \",,,,,,123...water...pp\"\n",
        "print(text.lstrip(',123.p'))\n",
        "print(text.rstrip(',123.p'))\n",
        "print(text.strip(',123.p'))"
      ]
    },
    {
      "cell_type": "code",
      "source": [
        "        test   !\n",
        ".text.~~\n",
        "test!\n",
        "        test   !\n",
        "~~.text.~~\n",
        "~test!\n",
        "\n",
        "\n",
        "\n",
        "Water boils at 100 degress 000\n",
        "000000000Water boils at 100 degress\n",
        "Water boils at 100 degress\n",
        "\n",
        "\n",
        "\n",
        "water...pp\n",
        ",,,,,,123...water\n",
        "water"
      ],
      "metadata": {
        "colab": {
          "base_uri": "https://localhost:8080/",
          "height": 110
        },
        "id": "bBbkxCPtMixR",
        "outputId": "b0705bfe-cf30-440a-e4ce-6558921119bc"
      },
      "execution_count": 2,
      "outputs": [
        {
          "output_type": "error",
          "ename": "SyntaxError",
          "evalue": "invalid decimal literal (<ipython-input-2-8f2479b8ef97>, line 11)",
          "traceback": [
            "\u001b[0;36m  File \u001b[0;32m\"<ipython-input-2-8f2479b8ef97>\"\u001b[0;36m, line \u001b[0;32m11\u001b[0m\n\u001b[0;31m    000000000Water boils at 100 degress\u001b[0m\n\u001b[0m            ^\u001b[0m\n\u001b[0;31mSyntaxError\u001b[0m\u001b[0;31m:\u001b[0m invalid decimal literal\n"
          ]
        }
      ]
    },
    {
      "cell_type": "code",
      "source": [
        "text = '  Water bils at 100 degrees  '\n",
        "print('[' + text.rstrip() + ']')\n",
        "print('[' + text.lstrip() + ']')\n",
        "print('[' + text.strip() + ']')"
      ],
      "metadata": {
        "colab": {
          "base_uri": "https://localhost:8080/"
        },
        "id": "BOZz_9wLMlNQ",
        "outputId": "b70b2e2e-1eff-4f58-c014-031e3530950e"
      },
      "execution_count": 3,
      "outputs": [
        {
          "output_type": "stream",
          "name": "stdout",
          "text": [
            "[  Water bils at 100 degrees]\n",
            "[Water bils at 100 degrees  ]\n",
            "[Water bils at 100 degrees]\n"
          ]
        }
      ]
    },
    {
      "cell_type": "code",
      "source": [
        "txt = \"   Hz   \"\n",
        "print(txt.isspace())"
      ],
      "metadata": {
        "colab": {
          "base_uri": "https://localhost:8080/"
        },
        "id": "Pm2NzxgiMmrw",
        "outputId": "d8065070-0590-40da-a827-10cf372e8a7c"
      },
      "execution_count": 4,
      "outputs": [
        {
          "output_type": "stream",
          "name": "stdout",
          "text": [
            "False\n"
          ]
        }
      ]
    },
    {
      "cell_type": "code",
      "source": [
        "sentence = input(\"문자열을 입력하시오: \")\n",
        "table = { \"알파벳\" : 0, \"숫자\" : 0, \"빈칸\" : 0}\n",
        "\n",
        "for i in sentence:\n",
        "    if (i.isalpha()):\n",
        "        table[\"알파벳\"] += 1\n",
        "    elif (i.isdigit()):\n",
        "        table[\"숫자\"] += 1\n",
        "    elif (i.isspace()):\n",
        "        table[\"빈칸\"] += 1\n",
        "print(table)"
      ],
      "metadata": {
        "colab": {
          "base_uri": "https://localhost:8080/"
        },
        "id": "WMM2MYqCMoEg",
        "outputId": "5e506a61-67a9-4a39-9d24-5d61b48491b1"
      },
      "execution_count": 5,
      "outputs": [
        {
          "output_type": "stream",
          "name": "stdout",
          "text": [
            "문자열을 입력하시오: abc123\n",
            "{'알파벳': 3, '숫자': 3, '빈칸': 0}\n"
          ]
        }
      ]
    },
    {
      "cell_type": "code",
      "source": [
        "s = '가나다라'\n",
        "n = 7\n",
        "\n",
        "answer =''\n",
        "for i in range(n-len(s)):  # 문자열의 앞을 빈 문자열로 채우는 for 문\n",
        "    answer +=' '\n",
        "\n",
        "answer += s\n",
        "\n",
        "print(answer)\n",
        "\n",
        "print(s.ljust(n))\n",
        "print(s.center(n))\n",
        "print(s.rjust(n))"
      ],
      "metadata": {
        "colab": {
          "base_uri": "https://localhost:8080/"
        },
        "id": "E7z8WsvFMqhQ",
        "outputId": "3de87294-4f5d-42b2-c847-73939a50ab5f"
      },
      "execution_count": 6,
      "outputs": [
        {
          "output_type": "stream",
          "name": "stdout",
          "text": [
            "   가나다라\n",
            "가나다라   \n",
            "  가나다라 \n",
            "   가나다라\n"
          ]
        }
      ]
    },
    {
      "cell_type": "code",
      "source": [
        "s = \"a b c d e f g\"\n",
        "print(f's             : {s}')\n",
        "\n",
        "r = s.split()\n",
        "print(f's.split() : {r}')"
      ],
      "metadata": {
        "colab": {
          "base_uri": "https://localhost:8080/"
        },
        "id": "6zThpCJgMsYh",
        "outputId": "6dbd385d-d535-469a-ffcf-5be4888a3f36"
      },
      "execution_count": 7,
      "outputs": [
        {
          "output_type": "stream",
          "name": "stdout",
          "text": [
            "s             : a b c d e f g\n",
            "s.split() : ['a', 'b', 'c', 'd', 'e', 'f', 'g']\n"
          ]
        }
      ]
    },
    {
      "cell_type": "code",
      "source": [
        "s = \"aa.bb.cc.BlockDMask.ee.ff.gg.python.example\"\n",
        "print(s)\n",
        "\n",
        "r0 = s.split()\n",
        "r1 = s.split('.',3)\n",
        "r2 = s.split(sep='.', maxsplit=4)\n",
        "r3 = s.split('.', maxsplit=3)\n",
        "print(f\"\\ns.split()\\n{r0}\")\n",
        "print(f\"\\ns.split('.',4)\\n{r1}\")\n",
        "print(f\"\\ns.split(sep='.', maxsplit=3)\\n{r2}\")\n",
        "print(f\"\\ns.split('.', maxsplit=3)\\n{r3}\")"
      ],
      "metadata": {
        "colab": {
          "base_uri": "https://localhost:8080/"
        },
        "id": "EkCUKRIEMv7B",
        "outputId": "88825739-70c7-4ac2-cc2b-4b551fa3e3de"
      },
      "execution_count": 8,
      "outputs": [
        {
          "output_type": "stream",
          "name": "stdout",
          "text": [
            "aa.bb.cc.BlockDMask.ee.ff.gg.python.example\n",
            "\n",
            "s.split()\n",
            "['aa.bb.cc.BlockDMask.ee.ff.gg.python.example']\n",
            "\n",
            "s.split('.',4)\n",
            "['aa', 'bb', 'cc', 'BlockDMask.ee.ff.gg.python.example']\n",
            "\n",
            "s.split(sep='.', maxsplit=3)\n",
            "['aa', 'bb', 'cc', 'BlockDMask', 'ee.ff.gg.python.example']\n",
            "\n",
            "s.split('.', maxsplit=3)\n",
            "['aa', 'bb', 'cc', 'BlockDMask.ee.ff.gg.python.example']\n"
          ]
        }
      ]
    },
    {
      "cell_type": "code",
      "source": [
        "text = '123,456,789,999'\n",
        "\n",
        "print(text.replace(\",\",\"\"))\n",
        "print(text.replace(\",\",\"!\",1))\n",
        "print(text.replace(\",\",\"!\",2))\n",
        "print(text.replace(\",\",\"!\",3))"
      ],
      "metadata": {
        "colab": {
          "base_uri": "https://localhost:8080/"
        },
        "id": "1CoAVeo0MxSR",
        "outputId": "756f9cb1-7cda-4a82-8084-2eab81ded9ef"
      },
      "execution_count": 9,
      "outputs": [
        {
          "output_type": "stream",
          "name": "stdout",
          "text": [
            "123456789999\n",
            "123!456,789,999\n",
            "123!456!789,999\n",
            "123!456!789!999\n"
          ]
        }
      ]
    },
    {
      "cell_type": "code",
      "source": [
        "txt = \"홈짱닷컴\\nHomzzang.com\"\n",
        "print(txt.splitlines())"
      ],
      "metadata": {
        "colab": {
          "base_uri": "https://localhost:8080/"
        },
        "id": "CMMiJ3ilMy-5",
        "outputId": "295cc2fc-f0c3-490e-f75a-766395905be4"
      },
      "execution_count": 10,
      "outputs": [
        {
          "output_type": "stream",
          "name": "stdout",
          "text": [
            "['홈짱닷컴', 'Homzzang.com']\n"
          ]
        }
      ]
    },
    {
      "cell_type": "code",
      "source": [
        "a = ['a','b','c','d','1','2','3']\n",
        "print(a)\n",
        "\n",
        "result1 = \"!\".join(a)\n",
        "print(result1)"
      ],
      "metadata": {
        "colab": {
          "base_uri": "https://localhost:8080/"
        },
        "id": "pN-y7mdUM0OI",
        "outputId": "d5f454c3-72c4-4833-f882-3070615ea18b"
      },
      "execution_count": 11,
      "outputs": [
        {
          "output_type": "stream",
          "name": "stdout",
          "text": [
            "['a', 'b', 'c', 'd', '1', '2', '3']\n",
            "a!b!c!d!1!2!3\n"
          ]
        }
      ]
    },
    {
      "cell_type": "code",
      "source": [
        "print( \"3\".zfill(3))\n",
        "print( \"s1\".zfill(4))"
      ],
      "metadata": {
        "colab": {
          "base_uri": "https://localhost:8080/"
        },
        "id": "V1RUyYIrM1yA",
        "outputId": "4cd26dee-38ed-46e2-ec76-f6335a426c71"
      },
      "execution_count": 12,
      "outputs": [
        {
          "output_type": "stream",
          "name": "stdout",
          "text": [
            "003\n",
            "00s1\n"
          ]
        }
      ]
    },
    {
      "cell_type": "code",
      "source": [
        "for x in range(3):\n",
        "    print(x)\n",
        "    print( str(x).zfill(4))"
      ],
      "metadata": {
        "id": "rPYEEC8WM3BI",
        "outputId": "bd3469f5-d26d-44fa-a3bd-56553bf03948",
        "colab": {
          "base_uri": "https://localhost:8080/"
        }
      },
      "execution_count": 13,
      "outputs": [
        {
          "output_type": "stream",
          "name": "stdout",
          "text": [
            "0\n",
            "0000\n",
            "1\n",
            "0001\n",
            "2\n",
            "0002\n"
          ]
        }
      ]
    },
    {
      "cell_type": "code",
      "source": [
        "a =\"abc\"\n",
        "\n",
        "print(a.rjust(10))\n",
        "print(a.rjust(10, '#'))\n",
        "\n",
        "print(a.ljust(10))\n",
        "print(a.ljust(10, '*'))\n",
        "\n",
        "print('\\n')\n",
        "\n",
        "b='def'\n",
        "print(b.ljust(15))\n",
        "print(b.ljust(15, 'k'))"
      ],
      "metadata": {
        "id": "X3yNKh6XM4EB",
        "outputId": "9e8156f1-cb89-4017-87c4-32cd38033bfc",
        "colab": {
          "base_uri": "https://localhost:8080/"
        }
      },
      "execution_count": 14,
      "outputs": [
        {
          "output_type": "stream",
          "name": "stdout",
          "text": [
            "       abc\n",
            "#######abc\n",
            "abc       \n",
            "abc*******\n",
            "\n",
            "\n",
            "def            \n",
            "defkkkkkkkkkkkk\n"
          ]
        }
      ]
    }
  ]
}