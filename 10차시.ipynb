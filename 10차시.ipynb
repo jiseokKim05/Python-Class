{
  "nbformat": 4,
  "nbformat_minor": 0,
  "metadata": {
    "colab": {
      "provenance": [],
      "authorship_tag": "ABX9TyNVmdgJ9V2Wftg3GLB63ZML",
      "include_colab_link": true
    },
    "kernelspec": {
      "name": "python3",
      "display_name": "Python 3"
    },
    "language_info": {
      "name": "python"
    }
  },
  "cells": [
    {
      "cell_type": "markdown",
      "metadata": {
        "id": "view-in-github",
        "colab_type": "text"
      },
      "source": [
        "<a href=\"https://colab.research.google.com/github/jiseokKim05/Python-Class/blob/main/10%EC%B0%A8%EC%8B%9C.ipynb\" target=\"_parent\"><img src=\"https://colab.research.google.com/assets/colab-badge.svg\" alt=\"Open In Colab\"/></a>"
      ]
    },
    {
      "cell_type": "code",
      "execution_count": 1,
      "metadata": {
        "colab": {
          "base_uri": "https://localhost:8080/"
        },
        "id": "CaAWg5roRqt_",
        "outputId": "450a961b-bee3-4322-8b0a-7e002b8e4221"
      },
      "outputs": [
        {
          "output_type": "stream",
          "name": "stdout",
          "text": [
            "BlockDMask\n",
            "BlockDMask\n",
            "BlockDMask\n",
            "BlockDMask\n",
            "BlockDMask\n",
            "BlockDMask\n"
          ]
        }
      ],
      "source": [
        "def func1():\n",
        "    print(\"BlockDMask\")\n",
        "\n",
        "# 함수 호출\n",
        "func1()\n",
        "func1()\n",
        "func1()\n",
        "\n",
        "for i in range(3):\n",
        "    func1()"
      ]
    },
    {
      "cell_type": "code",
      "source": [
        "def func2(a, b):\n",
        "    print(f'{a} 곱하기 {b} = {a * b}')\n",
        "\n",
        "# 함수 호출\n",
        "func2(1, 2)\n",
        "func2(1, 1)\n",
        "func2(3, 4)"
      ],
      "metadata": {
        "colab": {
          "base_uri": "https://localhost:8080/"
        },
        "id": "RAZjNcVDRzA0",
        "outputId": "8b82b51e-958e-4446-a212-7a7cdd6a3d09"
      },
      "execution_count": 2,
      "outputs": [
        {
          "output_type": "stream",
          "name": "stdout",
          "text": [
            "1 곱하기 2 = 2\n",
            "1 곱하기 1 = 1\n",
            "3 곱하기 4 = 12\n"
          ]
        }
      ]
    },
    {
      "cell_type": "code",
      "source": [
        "def func3():\n",
        "    return \"abcdefg\"\n",
        "\n",
        "# 함수 호출\n",
        "\n",
        "a = func3()\n",
        "print(a , 'GG' , sep=\" \" )"
      ],
      "metadata": {
        "colab": {
          "base_uri": "https://localhost:8080/"
        },
        "id": "Asj5534gR0lU",
        "outputId": "3e8f84cb-0635-468a-e1ec-44a77a96aa19"
      },
      "execution_count": 3,
      "outputs": [
        {
          "output_type": "stream",
          "name": "stdout",
          "text": [
            "abcdefg GG\n"
          ]
        }
      ]
    },
    {
      "cell_type": "code",
      "source": [
        "def func4(a, b):\n",
        "    return a * b\n",
        "\n",
        "# 함수 호출\n",
        "a = input()\n",
        "c = func4(int(a),9)    # input 함수를 사용한 a는 문자이기 때문에 숫자로 바꿔준다\n",
        "print(c)"
      ],
      "metadata": {
        "colab": {
          "base_uri": "https://localhost:8080/"
        },
        "id": "MiUWreo_R2Nr",
        "outputId": "9f7b1579-e757-42dd-80de-6b1ec0c1dd53"
      },
      "execution_count": 4,
      "outputs": [
        {
          "output_type": "stream",
          "name": "stdout",
          "text": [
            "1 \n",
            "9\n"
          ]
        }
      ]
    },
    {
      "cell_type": "code",
      "source": [
        "def gugudan(num):\n",
        "    for i in range(1, 10):\n",
        "        print(f'{num} x {i} = {num * i}')\n",
        "    print()\n",
        "# 구구단 출력\n",
        "\n",
        "gugudan(2)\n",
        "\n",
        "gugudan(3)"
      ],
      "metadata": {
        "colab": {
          "base_uri": "https://localhost:8080/"
        },
        "id": "fdq_ix8MR3gj",
        "outputId": "94df3763-b6c6-434e-d74b-7a11ca3a8d9d"
      },
      "execution_count": 5,
      "outputs": [
        {
          "output_type": "stream",
          "name": "stdout",
          "text": [
            "2 x 1 = 2\n",
            "2 x 2 = 4\n",
            "2 x 3 = 6\n",
            "2 x 4 = 8\n",
            "2 x 5 = 10\n",
            "2 x 6 = 12\n",
            "2 x 7 = 14\n",
            "2 x 8 = 16\n",
            "2 x 9 = 18\n",
            "\n",
            "3 x 1 = 3\n",
            "3 x 2 = 6\n",
            "3 x 3 = 9\n",
            "3 x 4 = 12\n",
            "3 x 5 = 15\n",
            "3 x 6 = 18\n",
            "3 x 7 = 21\n",
            "3 x 8 = 24\n",
            "3 x 9 = 27\n",
            "\n"
          ]
        }
      ]
    },
    {
      "cell_type": "code",
      "source": [
        "def func1(a , b=5, c=10):\n",
        "    return a + b + c\n",
        "\n",
        "print(func1(1, 2, 3))\n",
        "print(func1(1,2))\n",
        "print(func1(a=1))\n",
        "\n",
        "print()\n",
        "# 예제 2 - LMJ\n",
        "\n",
        "def func2(a=10, b=20):\n",
        "    return a + b\n",
        "\n",
        "print(func2(1, 2))\n",
        "print(func2(1))\n",
        "print(func2())"
      ],
      "metadata": {
        "colab": {
          "base_uri": "https://localhost:8080/"
        },
        "id": "PLaod6QvR9jb",
        "outputId": "009d3ebf-a1fe-43ba-8dc5-b3ad38db62be"
      },
      "execution_count": 6,
      "outputs": [
        {
          "output_type": "stream",
          "name": "stdout",
          "text": [
            "6\n",
            "13\n",
            "16\n",
            "\n",
            "3\n",
            "21\n",
            "30\n"
          ]
        }
      ]
    },
    {
      "cell_type": "code",
      "source": [
        "def func3(a=10,b,c):\n",
        "\t\treturn a + b + c\n",
        "\n",
        "func3(1, 2)\n",
        "\n",
        "func3( , 1,2)"
      ],
      "metadata": {
        "colab": {
          "base_uri": "https://localhost:8080/",
          "height": 110
        },
        "id": "ZokXuRJ6R-sz",
        "outputId": "6ab03b3b-38fe-4900-8c00-eb50d7c923b2"
      },
      "execution_count": 7,
      "outputs": [
        {
          "output_type": "error",
          "ename": "SyntaxError",
          "evalue": "non-default argument follows default argument (<ipython-input-7-4d22daf3db22>, line 1)",
          "traceback": [
            "\u001b[0;36m  File \u001b[0;32m\"<ipython-input-7-4d22daf3db22>\"\u001b[0;36m, line \u001b[0;32m1\u001b[0m\n\u001b[0;31m    def func3(a=10,b,c):\u001b[0m\n\u001b[0m                   ^\u001b[0m\n\u001b[0;31mSyntaxError\u001b[0m\u001b[0;31m:\u001b[0m non-default argument follows default argument\n"
          ]
        }
      ]
    },
    {
      "cell_type": "code",
      "source": [
        "def func6(*args):\n",
        "    a = 0\n",
        "    for i in args:\n",
        "        a = a + i\n",
        "    return a\n",
        "\n",
        "b = func6(1, 5)\n",
        "print(b)\n",
        "\n",
        "c = func6(2, 1, 3, 2)\n",
        "print(c)\n",
        "\n",
        "d = func6(1,2,3,4,5,6,7,8)\n",
        "print(d)\n",
        "\n",
        "e = func6()\n",
        "print(e)"
      ],
      "metadata": {
        "colab": {
          "base_uri": "https://localhost:8080/"
        },
        "id": "dtRp_vafSCUU",
        "outputId": "062d0364-20a5-41c8-e07a-9178d4eeacd3"
      },
      "execution_count": 8,
      "outputs": [
        {
          "output_type": "stream",
          "name": "stdout",
          "text": [
            "6\n",
            "8\n",
            "36\n",
            "0\n"
          ]
        }
      ]
    },
    {
      "cell_type": "code",
      "source": [
        "def test(*val):\n",
        "    for i in val:\n",
        "        print(i)\n",
        "\n",
        "test(1, 'a', 'b', 'c')"
      ],
      "metadata": {
        "colab": {
          "base_uri": "https://localhost:8080/"
        },
        "id": "ur5blO3QSEEL",
        "outputId": "810a3fbd-d6ef-4817-e955-1a1421570179"
      },
      "execution_count": 9,
      "outputs": [
        {
          "output_type": "stream",
          "name": "stdout",
          "text": [
            "1\n",
            "a\n",
            "b\n",
            "c\n"
          ]
        }
      ]
    },
    {
      "cell_type": "code",
      "source": [
        "def sum_mul(choice, *val):\n",
        "    if choice == 'sum':\n",
        "        result = 0\n",
        "        for i in val:\n",
        "          result = result + i\n",
        "    elif choice == 'mul':\n",
        "        result = 1\n",
        "        for i in val:\n",
        "          result = result * i\n",
        "    print()\n",
        "    return result\n",
        "\n",
        "print(sum_mul('sum', 1,2,3,4,5 ))\n",
        "print(sum_mul('mul', 1,2,3,4,5 ))"
      ],
      "metadata": {
        "colab": {
          "base_uri": "https://localhost:8080/"
        },
        "id": "CBgNRTr9SFr8",
        "outputId": "fda33919-2915-4420-ee68-1f03cdfe73fb"
      },
      "execution_count": 10,
      "outputs": [
        {
          "output_type": "stream",
          "name": "stdout",
          "text": [
            "\n",
            "15\n",
            "\n",
            "120\n"
          ]
        }
      ]
    },
    {
      "cell_type": "code",
      "source": [
        "def comp(score=0):\n",
        "    if score == 0:\n",
        "        return 0\n",
        "    elif score > 50:\n",
        "        return 2\n",
        "    else:\n",
        "        return 1\n",
        "\n",
        "grade = comp(40)\n",
        "print(\"Grade is \", grade, \" for \", 40)\n",
        "\n",
        "grade = comp(80)\n",
        "print(\"Grade is \", grade, \" for \", 80)\n",
        "\n",
        "grade = comp()\n",
        "print(\"Grade is \", grade, \" for \", \"for no score\")"
      ],
      "metadata": {
        "colab": {
          "base_uri": "https://localhost:8080/"
        },
        "id": "QVeQVLBoSHWD",
        "outputId": "8a3d0d04-ccf1-45da-d671-b25d37ffc34a"
      },
      "execution_count": 11,
      "outputs": [
        {
          "output_type": "stream",
          "name": "stdout",
          "text": [
            "Grade is  1  for  40\n",
            "Grade is  2  for  80\n",
            "Grade is  0  for  for no score\n"
          ]
        }
      ]
    },
    {
      "cell_type": "code",
      "source": [
        "def report(name, age, score):\n",
        "\tprint(name, score)\n",
        "\n",
        "report(age = 21, name = \"Ji Seok\", score = 100)\n",
        "report(\"Ji Seok\", 21, 100)"
      ],
      "metadata": {
        "colab": {
          "base_uri": "https://localhost:8080/"
        },
        "id": "tcHq-BqzSISz",
        "outputId": "7b47d59d-a39f-46a8-8edf-60e1bad0003e"
      },
      "execution_count": 12,
      "outputs": [
        {
          "output_type": "stream",
          "name": "stdout",
          "text": [
            "Ji Seok 100\n",
            "Ji Seok 100\n"
          ]
        }
      ]
    }
  ]
}