{
  "nbformat": 4,
  "nbformat_minor": 0,
  "metadata": {
    "colab": {
      "provenance": [],
      "authorship_tag": "ABX9TyOFYIK0DxZfixPUk+6DFIET",
      "include_colab_link": true
    },
    "kernelspec": {
      "name": "python3",
      "display_name": "Python 3"
    },
    "language_info": {
      "name": "python"
    }
  },
  "cells": [
    {
      "cell_type": "markdown",
      "metadata": {
        "id": "view-in-github",
        "colab_type": "text"
      },
      "source": [
        "<a href=\"https://colab.research.google.com/github/jiseokKim05/Python-Class/blob/main/4%EC%B0%A8%EC%8B%9C.ipynb\" target=\"_parent\"><img src=\"https://colab.research.google.com/assets/colab-badge.svg\" alt=\"Open In Colab\"/></a>"
      ]
    },
    {
      "cell_type": "code",
      "execution_count": 1,
      "metadata": {
        "colab": {
          "base_uri": "https://localhost:8080/"
        },
        "id": "pwzH8-jE4q5u",
        "outputId": "c7e8c87f-6b98-43f8-996e-5a78cb652f12"
      },
      "outputs": [
        {
          "output_type": "stream",
          "name": "stdout",
          "text": [
            "1.3333333333333333\n",
            "0.5\n",
            "2.0\n",
            "2\n",
            "1\n",
            "1024\n"
          ]
        }
      ],
      "source": [
        "print(4/3)\n",
        "print(1/2)\n",
        "print(4/2)\n",
        "print(7//3)\n",
        "print(7%3)\n",
        "print(2**10)"
      ]
    },
    {
      "cell_type": "code",
      "source": [
        "divmod(5,2)"
      ],
      "metadata": {
        "colab": {
          "base_uri": "https://localhost:8080/"
        },
        "id": "L01I2PyT4xZ6",
        "outputId": "1fd99c19-99c9-4de4-c4ae-b1f5e3439d61"
      },
      "execution_count": 2,
      "outputs": [
        {
          "output_type": "execute_result",
          "data": {
            "text/plain": [
              "(2, 1)"
            ]
          },
          "metadata": {},
          "execution_count": 2
        }
      ]
    },
    {
      "cell_type": "code",
      "source": [
        "quotient, rmainder = divmod(5,2)\n",
        "print(quotient, rmainder)"
      ],
      "metadata": {
        "colab": {
          "base_uri": "https://localhost:8080/"
        },
        "id": "qXMvRKpJ4y_D",
        "outputId": "ab63bd10-7b24-49e0-c0e5-a6916378ec47"
      },
      "execution_count": 3,
      "outputs": [
        {
          "output_type": "stream",
          "name": "stdout",
          "text": [
            "2 1\n"
          ]
        }
      ]
    },
    {
      "cell_type": "code",
      "source": [
        "a=1024\n",
        "print(a)\n",
        "a+=1024\n",
        "print(a)\n",
        "a-=1024\n",
        "print(a)\n",
        "a*=4\n",
        "print(a)\n",
        "a/=2\n",
        "print(a)\n",
        "a//=2\n",
        "print(a)\n",
        "a%=1022\n",
        "print(a)\n",
        "a**= 10\n",
        "print(a)"
      ],
      "metadata": {
        "colab": {
          "base_uri": "https://localhost:8080/"
        },
        "id": "1j3F3W2941pX",
        "outputId": "4927152b-8c67-42c1-d18b-7bc40aa61e67"
      },
      "execution_count": 4,
      "outputs": [
        {
          "output_type": "stream",
          "name": "stdout",
          "text": [
            "1024\n",
            "2048\n",
            "1024\n",
            "4096\n",
            "2048.0\n",
            "1024.0\n",
            "2.0\n",
            "1024.0\n"
          ]
        }
      ]
    },
    {
      "cell_type": "code",
      "source": [
        "a = 10\n",
        "b = 3\n",
        "print(\"10 == 3 =>\", a==b)\n",
        "print(\"10 != 3 =>\", a!=b)\n",
        "print(\"10 > 3 =>\", a>b)\n",
        "print(\"10 < 3 =>\", a>=b)\n",
        "print(\"10 <= 3 =>\", a<=b)"
      ],
      "metadata": {
        "colab": {
          "base_uri": "https://localhost:8080/"
        },
        "id": "sW4TRFhT43v9",
        "outputId": "a9ad3349-68da-4463-85c0-158cbecfccea"
      },
      "execution_count": 14,
      "outputs": [
        {
          "output_type": "stream",
          "name": "stdout",
          "text": [
            "10 == 3 => False\n",
            "10 != 3 => True\n",
            "10 > 3 => True\n",
            "10 < 3 => True\n",
            "10 <= 3 => False\n"
          ]
        }
      ]
    },
    {
      "cell_type": "code",
      "source": [
        "print(bin(0b1101&0b1001))\n",
        "print(13&9)\n",
        "print(bin(0b1101|0b1001))\n",
        "print(13|9)\n",
        "print(bin(0b1101^0b1001))\n",
        "print(13^9)\n",
        "print(bin(~0b1101))\n",
        "print(~13)"
      ],
      "metadata": {
        "id": "dSDtjKQ25iw6",
        "outputId": "4997f9ce-f75d-4702-b92f-01861bcc2727",
        "colab": {
          "base_uri": "https://localhost:8080/"
        }
      },
      "execution_count": 15,
      "outputs": [
        {
          "output_type": "stream",
          "name": "stdout",
          "text": [
            "0b1001\n",
            "9\n",
            "0b1101\n",
            "13\n",
            "0b100\n",
            "4\n",
            "-0b1110\n",
            "-14\n"
          ]
        }
      ]
    }
  ]
}