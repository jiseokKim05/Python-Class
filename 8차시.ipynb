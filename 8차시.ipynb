{
  "nbformat": 4,
  "nbformat_minor": 0,
  "metadata": {
    "colab": {
      "provenance": [],
      "authorship_tag": "ABX9TyOEJy7g1NpphQ+OQarx26bf",
      "include_colab_link": true
    },
    "kernelspec": {
      "name": "python3",
      "display_name": "Python 3"
    },
    "language_info": {
      "name": "python"
    }
  },
  "cells": [
    {
      "cell_type": "markdown",
      "metadata": {
        "id": "view-in-github",
        "colab_type": "text"
      },
      "source": [
        "<a href=\"https://colab.research.google.com/github/jiseokKim05/Python-Class/blob/main/8%EC%B0%A8%EC%8B%9C.ipynb\" target=\"_parent\"><img src=\"https://colab.research.google.com/assets/colab-badge.svg\" alt=\"Open In Colab\"/></a>"
      ]
    },
    {
      "cell_type": "code",
      "execution_count": 1,
      "metadata": {
        "colab": {
          "base_uri": "https://localhost:8080/"
        },
        "id": "Koukakq3FSso",
        "outputId": "9bd468c6-35f0-463d-f63f-335246dc04f9"
      },
      "outputs": [
        {
          "output_type": "stream",
          "name": "stdout",
          "text": [
            "True\n",
            "True\n",
            "False\n",
            "False\n",
            "True\n",
            "True\n"
          ]
        }
      ],
      "source": [
        "text1 = \"네이스123\"\n",
        "text2 = \"1231231\"\n",
        "text3 = \"!@#\"\n",
        "text4 = \"!#1234\"\n",
        "text5 = \"nice\"\n",
        "text6 = \"nicew1234\"\n",
        "print(text1.isalnum())\n",
        "print(text2.isalnum())\n",
        "print(text3.isalnum())\n",
        "print(text4.isalnum())\n",
        "print(text5.isalnum())\n",
        "print(text6.isalnum())"
      ]
    },
    {
      "cell_type": "code",
      "source": [
        "text = \"!#@#!@$!!@%@%!@@$231@3131이!!#@!네!@스$\"\n",
        "text1 = \"네이스\"\n",
        "text2 = \"123123\"\n",
        "text3 = \"!@#!\"\n",
        "check = \"\"\n",
        "print(text1.isalpha())\n",
        "print(text2.isalpha())\n",
        "print(text3.isalpha())\n",
        "for i in text:\n",
        "    if i.isalpha():\n",
        "        check += i\n",
        "print(check)"
      ],
      "metadata": {
        "colab": {
          "base_uri": "https://localhost:8080/"
        },
        "id": "fzgc4KXnFYUE",
        "outputId": "579660e7-37de-43bf-9b66-6c0ba40646c4"
      },
      "execution_count": 3,
      "outputs": [
        {
          "output_type": "stream",
          "name": "stdout",
          "text": [
            "True\n",
            "False\n",
            "False\n",
            "이네스\n"
          ]
        }
      ]
    },
    {
      "cell_type": "code",
      "source": [
        "a = \"BlockDMask\"\n",
        "b = \"1234Blog\"\n",
        "c = \"1231231\"\n",
        "d = \"-234\"\n",
        "e = \"1.23\"\n",
        "f = \"3\"\n",
        "g = '2/3'\n",
        "h = \"0\"\n",
        "print(f\"'{a}' .isdigit() : {str.isdigit(a)}\")\n",
        "print(f\"'{b}' .isdigit() : {str.isdigit(b)}\")\n",
        "print(f\"'{c}' .isdigit() : {str.isdigit(c)}\")\n",
        "print(f\"'{d}' .isdigit() : {str.isdigit(d)}\")\n",
        "print(f\"'{e}' .isdigit() : {str.isdigit(e)}\")"
      ],
      "metadata": {
        "colab": {
          "base_uri": "https://localhost:8080/"
        },
        "id": "wIa-nsQOFb9h",
        "outputId": "b76f405c-b017-435d-e465-df0724c9239a"
      },
      "execution_count": 4,
      "outputs": [
        {
          "output_type": "stream",
          "name": "stdout",
          "text": [
            "'BlockDMask' .isdigit() : False\n",
            "'1234Blog' .isdigit() : False\n",
            "'1231231' .isdigit() : True\n",
            "'-234' .isdigit() : False\n",
            "'1.23' .isdigit() : False\n"
          ]
        }
      ]
    },
    {
      "cell_type": "code",
      "source": [
        "a = '123456789'\n",
        "print(a.isdigit())\n",
        "print(a.isdecimal())\n",
        "print(a.isnumeric())\n",
        "print('\\n\\n')\n",
        "x ='3'\n",
        "print(x)\n",
        "print(x.isdigit())\n",
        "# True\n",
        "print(x.isdecimal())\n",
        "# False\n",
        "print(x.isnumeric())"
      ],
      "metadata": {
        "colab": {
          "base_uri": "https://localhost:8080/"
        },
        "id": "3Q6AkfaaFdOR",
        "outputId": "e495fc82-7405-43bf-8c22-7ed6e00f064a"
      },
      "execution_count": 5,
      "outputs": [
        {
          "output_type": "stream",
          "name": "stdout",
          "text": [
            "True\n",
            "True\n",
            "True\n",
            "\n",
            "\n",
            "\n",
            "3\n",
            "True\n",
            "True\n",
            "True\n"
          ]
        }
      ]
    },
    {
      "cell_type": "code",
      "source": [
        "a = \"I Love Python\"\n",
        "\n",
        "print(a.islower())\n",
        "print(a.islower())\n",
        "print(a.upper())\n",
        "print(a.lower())\n",
        "\n",
        "print('\\n\\n')\n",
        "\n",
        "str = \"This is string example...wow!!!\"\n",
        "print(str.islower())\n",
        "print(str.upper())\n",
        "\n",
        "str = \"this is string example...wow!!!\"\n",
        "print(str.islower())"
      ],
      "metadata": {
        "colab": {
          "base_uri": "https://localhost:8080/"
        },
        "id": "HbnziDhLFfWq",
        "outputId": "0c19da46-fa37-40ed-d318-dd12e3f54f0b"
      },
      "execution_count": 6,
      "outputs": [
        {
          "output_type": "stream",
          "name": "stdout",
          "text": [
            "False\n",
            "False\n",
            "I LOVE PYTHON\n",
            "i love python\n",
            "\n",
            "\n",
            "\n",
            "False\n",
            "THIS IS STRING EXAMPLE...WOW!!!\n",
            "True\n"
          ]
        }
      ]
    },
    {
      "cell_type": "code",
      "source": [
        "str = \"This is string Example...Wow!!!\"\n",
        "print(str.swapcase())\n",
        "\n",
        "str = \"THIsis stRINg eXample...Wow!!!   1234\"\n",
        "print(str.swapcase())"
      ],
      "metadata": {
        "colab": {
          "base_uri": "https://localhost:8080/"
        },
        "id": "jArAH7vJFhmh",
        "outputId": "afe38916-e282-4f70-aca8-7ee6e9001200"
      },
      "execution_count": 7,
      "outputs": [
        {
          "output_type": "stream",
          "name": "stdout",
          "text": [
            "tHIS IS STRING eXAMPLE...wOW!!!\n",
            "thiSIS STrinG ExAMPLE...wOW!!!   1234\n"
          ]
        }
      ]
    },
    {
      "cell_type": "code",
      "source": [
        "str = \"This Is String Example...Wow!!!\"\n",
        "print(str.istitle())\n",
        "\n",
        "str = \"This is string example...Wow!!!\"\n",
        "print(str.istitle())\n",
        "print(str.title())"
      ],
      "metadata": {
        "colab": {
          "base_uri": "https://localhost:8080/"
        },
        "id": "MruADcn3FjkS",
        "outputId": "8aabab54-e91b-4aeb-d2cd-06b3eef09c99"
      },
      "execution_count": 8,
      "outputs": [
        {
          "output_type": "stream",
          "name": "stdout",
          "text": [
            "True\n",
            "False\n",
            "This Is String Example...Wow!!!\n"
          ]
        }
      ]
    },
    {
      "cell_type": "code",
      "source": [
        "print('hello world!'.capitalize())\n",
        "print('HELLO WORLD!'.capitalize())"
      ],
      "metadata": {
        "colab": {
          "base_uri": "https://localhost:8080/"
        },
        "id": "HbLQUGUKFlnZ",
        "outputId": "03518031-5564-4fb9-d9e3-a0e5f99eba96"
      },
      "execution_count": 9,
      "outputs": [
        {
          "output_type": "stream",
          "name": "stdout",
          "text": [
            "Hello world!\n",
            "Hello world!\n"
          ]
        }
      ]
    }
  ]
}