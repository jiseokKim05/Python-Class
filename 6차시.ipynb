{
  "nbformat": 4,
  "nbformat_minor": 0,
  "metadata": {
    "colab": {
      "provenance": [],
      "authorship_tag": "ABX9TyNCMGw2rYK3DmvVNaDxY1go",
      "include_colab_link": true
    },
    "kernelspec": {
      "name": "python3",
      "display_name": "Python 3"
    },
    "language_info": {
      "name": "python"
    }
  },
  "cells": [
    {
      "cell_type": "markdown",
      "metadata": {
        "id": "view-in-github",
        "colab_type": "text"
      },
      "source": [
        "<a href=\"https://colab.research.google.com/github/jiseokKim05/Python-Class/blob/main/6%EC%B0%A8%EC%8B%9C.ipynb\" target=\"_parent\"><img src=\"https://colab.research.google.com/assets/colab-badge.svg\" alt=\"Open In Colab\"/></a>"
      ]
    },
    {
      "cell_type": "code",
      "execution_count": null,
      "metadata": {
        "id": "XkIv2-UNFec7"
      },
      "outputs": [],
      "source": [
        "# 1번\n",
        "str = input(\"How old are you\")\n",
        "print(str , 'years old', sep=' ')"
      ]
    },
    {
      "cell_type": "code",
      "source": [
        "# 1-2번\n",
        "x = float(input('number : '))\n",
        "print(x)"
      ],
      "metadata": {
        "id": "dSiwrB_yFhUv"
      },
      "execution_count": null,
      "outputs": []
    },
    {
      "cell_type": "code",
      "source": [
        "# 1-3번\n",
        "year = input (\"this year : \")\n",
        "year = eval(year)\n",
        "year = year + 1\n",
        "print(\"Next year:\", year)"
      ],
      "metadata": {
        "id": "s_bk8sSfFjwQ"
      },
      "execution_count": null,
      "outputs": []
    },
    {
      "cell_type": "code",
      "source": [
        "# 2번\n",
        "i = 0\n",
        "result = 0\n",
        "while i < 5:\n",
        "  print(f'{i} 번째',end=\" \")\n",
        "  a = input(\"성적 입력 : \")\n",
        "  result += int(a)\n",
        "  i += 1\n",
        "\n",
        "print(f'합 : {result}')\n",
        "print(f'평균 : {result / 5}')"
      ],
      "metadata": {
        "id": "ys3A6H_zFmiI"
      },
      "execution_count": null,
      "outputs": []
    },
    {
      "cell_type": "code",
      "source": [
        "# 3번\n",
        "test_list = ['one', 'two', 'three']\n",
        "for i in test_list:\n",
        "  print(i)"
      ],
      "metadata": {
        "id": "MKnYXOPfFmal"
      },
      "execution_count": null,
      "outputs": []
    },
    {
      "cell_type": "code",
      "source": [
        "# 3-2번\n",
        "for i in range(1, 10):\n",
        "  print(i)"
      ],
      "metadata": {
        "id": "iCZWTlFsFpx_"
      },
      "execution_count": null,
      "outputs": []
    },
    {
      "cell_type": "code",
      "source": [
        "# 3-3번\n",
        "result = 0\n",
        "for a in range(1, 101):  #1 ~ 100\n",
        "\n",
        "  result = result + a\n",
        "  print(f\"{a} {result}\")\n",
        "\n",
        "print(result)"
      ],
      "metadata": {
        "id": "QPaxJRewFp9I"
      },
      "execution_count": null,
      "outputs": []
    },
    {
      "cell_type": "code",
      "source": [
        "# 4번\n",
        "result = 0\n",
        "for a in range(1,101):  # 1 ~ 100\n",
        "  result = result + a     # a를 더해주고\n",
        "  print(f'{a} : sum = {result}')          # 그때의 a값을 출력\n",
        "  if result > 100:      # result가 100이 넘었을때\n",
        "\n",
        "      break\n",
        "\n",
        "print(result)"
      ],
      "metadata": {
        "id": "7upRanpfFqGw"
      },
      "execution_count": null,
      "outputs": []
    },
    {
      "cell_type": "code",
      "source": [
        "# 4-2번\n",
        "index = 0\n",
        "s = \"BlockDMask\"\n",
        "for a in s:\n",
        "  print(a,end=' ')\n",
        "  if a == 'k':\n",
        "    break     # 'k'를 찾았으니 for문에서 나와랏!\n",
        "\n",
        "  index = index + 1\n",
        "\n",
        "print(index)   # 'k'가 첫번째로 존재하는 위치 출력"
      ],
      "metadata": {
        "id": "PHIRVxULFqQP"
      },
      "execution_count": null,
      "outputs": []
    },
    {
      "cell_type": "code",
      "source": [
        "# 5번\n",
        "student = [180, 170, 164, 199, 182, 172, 177]\n",
        "for a in student:\n",
        "  if a > 170:\n",
        "\n",
        "    continue  # 키가 170보다 크면 continue\n",
        "\n",
        "  print(a)"
      ],
      "metadata": {
        "id": "gidJZbpgFvLr"
      },
      "execution_count": null,
      "outputs": []
    },
    {
      "cell_type": "code",
      "source": [
        "# 5-2번\n",
        "result = 0\n",
        "for a in range(1,101):  #1 ~ 100\n",
        "  if a % 2 == 0:        #2로 나누었을때 나머지가 1\n",
        "\n",
        "      continue\n",
        "  result = result + a\n",
        "\n",
        "print(result)"
      ],
      "metadata": {
        "id": "prJHxc1vFvaG"
      },
      "execution_count": null,
      "outputs": []
    },
    {
      "cell_type": "code",
      "source": [
        "# 6번\n",
        "l = ['Alice' , 'Bob' , 'Charlie']\n",
        "\n",
        "for name in l:\n",
        "    print(name)\n",
        "else:\n",
        "    print('!!FINISH!')"
      ],
      "metadata": {
        "id": "2Lgi0_NLFvjR"
      },
      "execution_count": null,
      "outputs": []
    },
    {
      "cell_type": "code",
      "source": [
        "# 6-2번\n",
        "l = ['Alice' , 'Bob' , 'Charlie']\n",
        "\n",
        "for name in l:\n",
        "    if name == 'Bob':\n",
        "        print('!!BREAK!!')\n",
        "        break\n",
        "    print(name)\n",
        "else:\n",
        "    print('!!FINISH!!')"
      ],
      "metadata": {
        "id": "Ke9e36yuFyvf"
      },
      "execution_count": null,
      "outputs": []
    },
    {
      "cell_type": "code",
      "source": [
        "# 7번\n",
        "sr = ['father', 'mother', 'brother']\n",
        "cnt = 0\n",
        "for s in sr:\n",
        "        for c in s:\n",
        "            if c == 'r':\n",
        "                cnt += 1\n",
        "print(cnt)"
      ],
      "metadata": {
        "id": "EMbm3wEHFy5p"
      },
      "execution_count": null,
      "outputs": []
    },
    {
      "cell_type": "code",
      "source": [
        "# 8번\n",
        "a = []\n",
        "\n",
        "for i in range(10):\n",
        "    a.append(0)\n",
        "\n",
        "print(a)"
      ],
      "metadata": {
        "id": "erKLJnRtFzC6"
      },
      "execution_count": null,
      "outputs": []
    },
    {
      "cell_type": "code",
      "source": [
        "# 8-2번\n",
        "a = []\n",
        "\n",
        "for i in range(3):\n",
        "    line = []\n",
        "    for j in range(2):\n",
        "        line.append(0)\n",
        "    a.append(line)\n",
        "\n",
        "print(a)"
      ],
      "metadata": {
        "id": "n2524jUfF3YA"
      },
      "execution_count": null,
      "outputs": []
    },
    {
      "cell_type": "code",
      "source": [
        "# 7번\n",
        "l = ['Alice', 'Bob', 'Charlie']\n",
        "\n",
        "for name in l:\n",
        "    print(name)\n",
        "\n",
        "for i, name in enumerate(l):\n",
        "    print(i, name)"
      ],
      "metadata": {
        "id": "ys-ClE_1F3iK"
      },
      "execution_count": null,
      "outputs": []
    },
    {
      "cell_type": "code",
      "source": [
        "# 7-2번\n",
        "for i, name in enumerate(l, 1):\n",
        "    print(i, name)\n",
        "\n",
        "for i, name in enumerate(l, 42):\n",
        "    print(i, name)"
      ],
      "metadata": {
        "id": "7PgAi8gmF8Pj"
      },
      "execution_count": null,
      "outputs": []
    }
  ]
}